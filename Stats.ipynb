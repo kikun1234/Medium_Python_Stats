{
  "cells": [
    {
      "cell_type": "markdown",
      "metadata": {
        "id": "view-in-github",
        "colab_type": "text"
      },
      "source": [
        "<a href=\"https://colab.research.google.com/github/kikun1234/Medium_Python_Stats/blob/main/Stats.ipynb\" target=\"_parent\"><img src=\"https://colab.research.google.com/assets/colab-badge.svg\" alt=\"Open In Colab\"/></a>"
      ]
    },
    {
      "cell_type": "code",
      "execution_count": null,
      "metadata": {
        "id": "mqyENaaOOKz1"
      },
      "outputs": [],
      "source": [
        "##importing libraries & import google sheets\n",
        "import pandas as pd\n",
        "import numpy as np\n",
        "\n",
        "from google.colab import auth\n",
        "auth.authenticate_user()\n",
        "\n",
        "import gspread\n",
        "from google.auth import default\n",
        "creds, _ = default()\n",
        "\n",
        "gc = gspread.authorize(creds)"
      ]
    },
    {
      "cell_type": "code",
      "execution_count": null,
      "metadata": {
        "id": "VL4HSdToOk3i",
        "colab": {
          "base_uri": "https://localhost:8080/"
        },
        "outputId": "51cdc065-850e-4cb6-f116-3411ebd7ece1"
      },
      "outputs": [
        {
          "output_type": "stream",
          "name": "stderr",
          "text": [
            "/usr/local/lib/python3.7/dist-packages/ipykernel_launcher.py:5: SettingWithCopyWarning: \n",
            "A value is trying to be set on a copy of a slice from a DataFrame.\n",
            "Try using .loc[row_indexer,col_indexer] = value instead\n",
            "\n",
            "See the caveats in the documentation: https://pandas.pydata.org/pandas-docs/stable/user_guide/indexing.html#returning-a-view-versus-a-copy\n",
            "  \"\"\"\n",
            "/usr/local/lib/python3.7/dist-packages/ipykernel_launcher.py:29: FutureWarning: The default value of regex will change from True to False in a future version.\n"
          ]
        }
      ],
      "source": [
        "#stats\n",
        "ws = gc.open('Stats').get_worksheet(1)\n",
        "df = pd.DataFrame(ws.get_all_records())\n",
        "df1 = df[~df['Title'].str.contains('May 2021|February 2022|March 2022|April 2022')]\n",
        "df1['Title'] = df1['Title'].shift(1)\n",
        "df2 = df1.reset_index(drop=True)\n",
        "df2 = df2.iloc[1:]\n",
        "df2= df2[~df2['Title'].str.contains('storyDetails')]\n",
        "\n",
        "def clean(x):\n",
        "  df4 = x.str.split('([^\\W\\d])', expand=True)\n",
        "  df4 = df4.iloc[: , :-1]\n",
        "  df4.columns=[\"A\",\"B\"]\n",
        "  df4['B'] = df4['B'].str.replace(\"K\",\"1000\")\n",
        "  df4['A'] = df4['A'].astype('float64')\n",
        "  df4['B'] = df4['B'].astype('float64')\n",
        "  df4['C'] = df4['A']*df4['B']\n",
        "  return(df4['C'])\n",
        "\n",
        "df3 = df2\n",
        "views1 = clean(df2['Views'])\n",
        "df3[\"Views1\"] = views1\n",
        "df3['Views1'] = df3['Views1'].fillna(df3['Views'])\n",
        "\n",
        "reads1 = clean(df2['Reads'])\n",
        "df3[\"Reads1\"] = reads1\n",
        "df3['Reads1'] = df3['Reads1'].fillna(df3['Reads'])\n",
        "\n",
        "df3['Read Ratio']=df3['Read Ratio'].str.replace('\\%','')\n",
        "df3['Read Ratio'] = df3['Read Ratio'].astype('float64')\n",
        "df3['Read Ratio'] = df3['Read Ratio']/100\n",
        "\n",
        "df4=df3\n",
        "df4['Views2']=df4['Reads1']/df4['Read Ratio']\n",
        "df4['Views2'] = df4['Views2'].round(0)\n",
        "df4['Fans'] = df4['Fans'].astype('float64')\n",
        "df_stats1 = df4[['Title','Views2','Reads1','Read Ratio','Fans']]"
      ]
    },
    {
      "cell_type": "code",
      "source": [
        "#your@ page\n",
        "ws = gc.open('Stats').get_worksheet(0)\n",
        "df = pd.DataFrame(ws.get_all_records())\n",
        "df['Title'] = df['Title'].replace('', np.nan) \n",
        "df1 = df.dropna()\n",
        "df1 = df1[df1['Title'].str.len()<100]\n",
        "df1 = df1[~df1['Title'].str.contains('Published in|Get an email whenever Jason Huynh publishes.|You cannot subscribe to yourself')]\n",
        "df2 = df1\n",
        "df2 = df2[df2['Title'].str.len()>20]\n",
        "titles = df2.iloc[::2].reset_index(drop=True)\n",
        "df4 = df1[df1['Title'].str.len()<20]\n",
        "date = df4[::3].reset_index(drop=True)\n",
        "tag = df4[1::3].reset_index(drop=True)\n",
        "time = df4[2::3].reset_index(drop=True)\n",
        "df_stats2 = pd.concat([titles,date, tag, time],axis=1)\n",
        "df_stats2.columns = ['Title','Date', 'Tag', 'Time']\n",
        "df_stats2['Date'] = df_stats2['Date'].str.replace('\\·','')\n",
        "df_stats2['Time'] = df_stats2['Time'].str.replace('min read','')\n",
        "df_stats2['Time'] = df_stats2['Time'].astype(\"float64\")\n"
      ],
      "metadata": {
        "id": "C_K7lKGgb2ti",
        "colab": {
          "base_uri": "https://localhost:8080/"
        },
        "outputId": "6253c8f6-f14b-427d-8032-b64aeccb0e3a"
      },
      "execution_count": null,
      "outputs": [
        {
          "output_type": "stream",
          "name": "stderr",
          "text": [
            "/usr/local/lib/python3.7/dist-packages/ipykernel_launcher.py:17: FutureWarning: The default value of regex will change from True to False in a future version.\n"
          ]
        }
      ]
    },
    {
      "cell_type": "code",
      "source": [
        "#earnings\n",
        "ws = gc.open('Stats').get_worksheet(2)\n",
        "df = pd.DataFrame(ws.get_all_records())\n",
        "df1 = df[~df['Title'].str.contains(\"• View stats\")]\n",
        "df2 = df1[::2].reset_index(drop=True)\n",
        "df3 = df1[1::2].reset_index(drop=True)\n",
        "df_stats3 = pd.concat([df2,df3],axis=1)\n",
        "df_stats3.columns = ['Title','Earnings']\n",
        "df_stats3['Earnings']=df_stats3['Earnings'].str.replace(\"\\$\",\"\")\n",
        "df_stats3['Earnings']=df_stats3['Earnings'].astype(\"float64\")"
      ],
      "metadata": {
        "colab": {
          "base_uri": "https://localhost:8080/"
        },
        "id": "r3UGsYeo_hmK",
        "outputId": "9be1c37a-75e4-406a-f540-64a8d99f4105"
      },
      "execution_count": null,
      "outputs": [
        {
          "output_type": "stream",
          "name": "stderr",
          "text": [
            "/usr/local/lib/python3.7/dist-packages/ipykernel_launcher.py:9: FutureWarning: The default value of regex will change from True to False in a future version.\n",
            "  if __name__ == '__main__':\n"
          ]
        }
      ]
    },
    {
      "cell_type": "code",
      "source": [
        "df_final = df_stats1.merge(df_stats2,on=\"Title\")\n",
        "df_final = df_final.merge(df_stats3,how=\"left\",on=\"Title\")"
      ],
      "metadata": {
        "id": "jmu73ST9GZAt"
      },
      "execution_count": null,
      "outputs": []
    },
    {
      "cell_type": "code",
      "source": [
        "#stats function\n",
        "df_final.loc[df_final['Tag']==\"Entrepreneurship\",\"Topic\"]=\"Startup\"\n",
        "df_final.loc[df_final['Tag']==\"Startup\",\"Topic\"]=\"Startup\"\n",
        "df_final.loc[df_final['Tag']==\"Passive Income\",\"Topic\"]=\"Startup\"\n",
        "\n",
        "df_final.loc[df_final['Tag']==\"Cryptocurrency\",\"Topic\"]=\"Blockchain\"\n",
        "df_final.loc[df_final['Tag']==\"Blockchain\",\"Topic\"]=\"Blockchain\"\n",
        "df_final.loc[df_final['Tag']==\"Nft\",\"Topic\"]=\"Blockchain\"\n",
        "df_final.loc[df_final['Tag']==\"Metaverse\",\"Topic\"]=\"Blockchain\"\n",
        "\n",
        "df_final.loc[df_final['Tag']==\"Data Science\",\"Topic\"]=\"Data Science\"\n",
        "df_final.loc[df_final['Tag']==\"Machine Learning\",\"Topic\"]=\"Data Science\"\n",
        "df_final.loc[df_final['Tag']==\"Data\",\"Topic\"]=\"Data Science\"\n",
        "df_final.loc[df_final['Tag']==\"Spreadsheets\",\"Topic\"]=\"Data Science\"\n",
        "\n",
        "df_final.loc[df_final['Tag']==\"Data Lake\",\"Topic\"]=\"Programming\"\n",
        "df_final.loc[df_final['Tag']==\"Programming\",\"Topic\"]=\"Programming\"\n",
        "df_final.loc[df_final['Tag']==\"Python\",\"Topic\"]=\"Programming\"\n",
        "\n",
        "df_final.loc[df_final['Tag']==\"Business\",\"Topic\"]=\"Investing\"\n",
        "df_final.loc[df_final['Tag']==\"Investing\",\"Topic\"]=\"Investing\"\n",
        "df_final.loc[df_final['Tag']==\"Money\",\"Topic\"]=\"Investing\"\n",
        "df_final.loc[df_final['Tag']==\"Personal Finance\",\"Topic\"]=\"Investing\"\n",
        "df_final.loc[df_final['Tag']==\"Inflation\",\"Topic\"]=\"Investing\"\n",
        "\n",
        "df_final.loc[df_final['Tag']==\"Work\",\"Topic\"]=\"Work\"\n",
        "df_final.loc[df_final['Tag']==\"Technology\",\"Topic\"]=\"Work\"\n",
        "\n",
        "df_final.loc[df_final['Tag']==\"Self Improvement\",\"Topic\"]=\"Self Improvement\"\n",
        "df_final.loc[df_final['Tag']==\"Problem Solving\",\"Topic\"]=\"Self Improvement\"\n",
        "df_final.loc[df_final['Tag']==\"Life Lessons\",\"Topic\"]=\"Self Improvement\"\n",
        "df_final.loc[df_final['Tag']==\"Writing\",\"Topic\"]=\"Self Improvement\"\n",
        "\n",
        "df_final1 = df_final[~df_final['Topic'].isna()]\n",
        "\n",
        "def stat_clean(x):\n",
        "  df_final2 = df_final1.sort_values(by=[x],ascending=False)\n",
        "  top = int(round(len(df_final2)*0.2,0))\n",
        "  df_final2_top = df_final2.head(top)\n",
        "  df_final2_top['Top'] = \"Top\"\n",
        "  df_final3 = pd.concat([df_final2,df_final2_top['Top']],axis=1).sort_values(by=[x],ascending=False)\n",
        "  stats = df_final3[['Topic','Top']]\n",
        "  stats1 = stats.groupby('Topic').count().reset_index()\n",
        "  stats_totals = pd.DataFrame(stats['Topic'].value_counts())\n",
        "  stats_totals.columns=['Total']\n",
        "  stats_totals = stats_totals.reset_index()\n",
        "  stats_totals.columns=['Topic','Total']\n",
        "  stats2 = stats1.merge(stats_totals,on=\"Topic\")\n",
        "  stats2['Top+1']=stats2['Top']+1\n",
        "  stats2['Total+2']=stats2['Total']+2\n",
        "  stats2['%Success']=stats2['Top+1']/stats2['Total+2']\n",
        "  return(stats2)"
      ],
      "metadata": {
        "id": "5bUqVrtyVvBp"
      },
      "execution_count": null,
      "outputs": []
    },
    {
      "cell_type": "code",
      "source": [
        "ws = gc.open('Output').get_worksheet(0)\n",
        "df_final_update = df_final.fillna(0)\n",
        "ws.update([df_final_update.columns.values.tolist()] + df_final_update.values.tolist())"
      ],
      "metadata": {
        "colab": {
          "base_uri": "https://localhost:8080/"
        },
        "id": "wkf2AeHogU-e",
        "outputId": "d3a52c56-9686-4fe8-d077-b7c81b45b2a4"
      },
      "execution_count": null,
      "outputs": [
        {
          "output_type": "execute_result",
          "data": {
            "text/plain": [
              "{'spreadsheetId': '1vSP_CuDba56tHC92gRueIR0TeZ0NrIGu7flhWadPUHg',\n",
              " 'updatedCells': 450,\n",
              " 'updatedColumns': 9,\n",
              " 'updatedRange': 'All!A1:I50',\n",
              " 'updatedRows': 50}"
            ]
          },
          "metadata": {},
          "execution_count": 71
        }
      ]
    },
    {
      "cell_type": "code",
      "source": [
        "views = stat_clean('Views2')\n",
        "ws = gc.open('Output').get_worksheet(1)\n",
        "ws.update([views.columns.values.tolist()] +views.values.tolist())"
      ],
      "metadata": {
        "colab": {
          "base_uri": "https://localhost:8080/"
        },
        "id": "dHLbHHCAeYNW",
        "outputId": "a6aec750-7087-42ea-c8d0-fbd89a9f2699"
      },
      "execution_count": null,
      "outputs": [
        {
          "output_type": "stream",
          "name": "stderr",
          "text": [
            "/usr/local/lib/python3.7/dist-packages/ipykernel_launcher.py:40: SettingWithCopyWarning: \n",
            "A value is trying to be set on a copy of a slice from a DataFrame.\n",
            "Try using .loc[row_indexer,col_indexer] = value instead\n",
            "\n",
            "See the caveats in the documentation: https://pandas.pydata.org/pandas-docs/stable/user_guide/indexing.html#returning-a-view-versus-a-copy\n"
          ]
        },
        {
          "output_type": "execute_result",
          "data": {
            "text/plain": [
              "{'spreadsheetId': '1vSP_CuDba56tHC92gRueIR0TeZ0NrIGu7flhWadPUHg',\n",
              " 'updatedCells': 48,\n",
              " 'updatedColumns': 6,\n",
              " 'updatedRange': 'Views!A1:F8',\n",
              " 'updatedRows': 8}"
            ]
          },
          "metadata": {},
          "execution_count": 34
        }
      ]
    },
    {
      "cell_type": "code",
      "source": [
        "reads = stat_clean('Reads1')\n",
        "ws = gc.open('Output').get_worksheet(2)\n",
        "ws.update([reads.columns.values.tolist()] +reads.values.tolist())"
      ],
      "metadata": {
        "colab": {
          "base_uri": "https://localhost:8080/"
        },
        "id": "N0wOqfZbebZF",
        "outputId": "2553dfab-a79c-41cd-9644-3e55d6140443"
      },
      "execution_count": null,
      "outputs": [
        {
          "output_type": "stream",
          "name": "stderr",
          "text": [
            "/usr/local/lib/python3.7/dist-packages/ipykernel_launcher.py:40: SettingWithCopyWarning: \n",
            "A value is trying to be set on a copy of a slice from a DataFrame.\n",
            "Try using .loc[row_indexer,col_indexer] = value instead\n",
            "\n",
            "See the caveats in the documentation: https://pandas.pydata.org/pandas-docs/stable/user_guide/indexing.html#returning-a-view-versus-a-copy\n"
          ]
        },
        {
          "output_type": "execute_result",
          "data": {
            "text/plain": [
              "{'spreadsheetId': '1vSP_CuDba56tHC92gRueIR0TeZ0NrIGu7flhWadPUHg',\n",
              " 'updatedCells': 48,\n",
              " 'updatedColumns': 6,\n",
              " 'updatedRange': 'Reads!A1:F8',\n",
              " 'updatedRows': 8}"
            ]
          },
          "metadata": {},
          "execution_count": 35
        }
      ]
    },
    {
      "cell_type": "code",
      "source": [
        "ratio = stat_clean('Read Ratio')\n",
        "ws = gc.open('Output').get_worksheet(3)\n",
        "ws.update([ratio.columns.values.tolist()] +ratio.values.tolist())"
      ],
      "metadata": {
        "colab": {
          "base_uri": "https://localhost:8080/"
        },
        "id": "NWHDUGmjegRU",
        "outputId": "3446b095-2b34-4c37-9d23-228eae47d017"
      },
      "execution_count": null,
      "outputs": [
        {
          "output_type": "stream",
          "name": "stderr",
          "text": [
            "/usr/local/lib/python3.7/dist-packages/ipykernel_launcher.py:40: SettingWithCopyWarning: \n",
            "A value is trying to be set on a copy of a slice from a DataFrame.\n",
            "Try using .loc[row_indexer,col_indexer] = value instead\n",
            "\n",
            "See the caveats in the documentation: https://pandas.pydata.org/pandas-docs/stable/user_guide/indexing.html#returning-a-view-versus-a-copy\n"
          ]
        },
        {
          "output_type": "execute_result",
          "data": {
            "text/plain": [
              "{'spreadsheetId': '1vSP_CuDba56tHC92gRueIR0TeZ0NrIGu7flhWadPUHg',\n",
              " 'updatedCells': 48,\n",
              " 'updatedColumns': 6,\n",
              " 'updatedRange': 'Ratio!A1:F8',\n",
              " 'updatedRows': 8}"
            ]
          },
          "metadata": {},
          "execution_count": 36
        }
      ]
    },
    {
      "cell_type": "code",
      "source": [
        "fans = stat_clean('Fans')\n",
        "ws = gc.open('Output').get_worksheet(4)\n",
        "ws.update([fans.columns.values.tolist()] +fans.values.tolist())"
      ],
      "metadata": {
        "colab": {
          "base_uri": "https://localhost:8080/"
        },
        "id": "B0vIVOI4ejMh",
        "outputId": "27cbe3fc-acb8-4430-b640-06fa0bbc4b92"
      },
      "execution_count": null,
      "outputs": [
        {
          "output_type": "stream",
          "name": "stderr",
          "text": [
            "/usr/local/lib/python3.7/dist-packages/ipykernel_launcher.py:40: SettingWithCopyWarning: \n",
            "A value is trying to be set on a copy of a slice from a DataFrame.\n",
            "Try using .loc[row_indexer,col_indexer] = value instead\n",
            "\n",
            "See the caveats in the documentation: https://pandas.pydata.org/pandas-docs/stable/user_guide/indexing.html#returning-a-view-versus-a-copy\n"
          ]
        },
        {
          "output_type": "execute_result",
          "data": {
            "text/plain": [
              "{'spreadsheetId': '1vSP_CuDba56tHC92gRueIR0TeZ0NrIGu7flhWadPUHg',\n",
              " 'updatedCells': 48,\n",
              " 'updatedColumns': 6,\n",
              " 'updatedRange': 'Fans!A1:F8',\n",
              " 'updatedRows': 8}"
            ]
          },
          "metadata": {},
          "execution_count": 69
        }
      ]
    },
    {
      "cell_type": "code",
      "source": [
        "earnings = stat_clean('Earnings')\n",
        "ws = gc.open('Output').get_worksheet(5)\n",
        "ws.update([earnings.columns.values.tolist()] +earnings.values.tolist())"
      ],
      "metadata": {
        "colab": {
          "base_uri": "https://localhost:8080/"
        },
        "id": "g3t6DJDFH625",
        "outputId": "0aef6b7a-6aec-4df8-a149-044e7bd6ea45"
      },
      "execution_count": null,
      "outputs": [
        {
          "output_type": "stream",
          "name": "stderr",
          "text": [
            "/usr/local/lib/python3.7/dist-packages/ipykernel_launcher.py:40: SettingWithCopyWarning: \n",
            "A value is trying to be set on a copy of a slice from a DataFrame.\n",
            "Try using .loc[row_indexer,col_indexer] = value instead\n",
            "\n",
            "See the caveats in the documentation: https://pandas.pydata.org/pandas-docs/stable/user_guide/indexing.html#returning-a-view-versus-a-copy\n"
          ]
        },
        {
          "output_type": "execute_result",
          "data": {
            "text/plain": [
              "{'spreadsheetId': '1vSP_CuDba56tHC92gRueIR0TeZ0NrIGu7flhWadPUHg',\n",
              " 'updatedCells': 48,\n",
              " 'updatedColumns': 6,\n",
              " 'updatedRange': 'Earnings!A1:F8',\n",
              " 'updatedRows': 8}"
            ]
          },
          "metadata": {},
          "execution_count": 81
        }
      ]
    }
  ],
  "metadata": {
    "colab": {
      "name": "Stats.ipynb",
      "provenance": [],
      "authorship_tag": "ABX9TyOYuo+pEjBoGPXmnQ8elWm7",
      "include_colab_link": true
    },
    "kernelspec": {
      "display_name": "Python 3",
      "name": "python3"
    },
    "language_info": {
      "name": "python"
    }
  },
  "nbformat": 4,
  "nbformat_minor": 0
}