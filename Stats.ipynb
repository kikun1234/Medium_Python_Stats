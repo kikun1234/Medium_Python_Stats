{
  "cells": [
    {
      "cell_type": "markdown",
      "metadata": {
        "id": "view-in-github",
        "colab_type": "text"
      },
      "source": [
        "<a href=\"https://colab.research.google.com/github/kikun1234/Medium_Python_Stats/blob/main/Stats.ipynb\" target=\"_parent\"><img src=\"https://colab.research.google.com/assets/colab-badge.svg\" alt=\"Open In Colab\"/></a>"
      ]
    },
    {
      "cell_type": "code",
      "execution_count": 35,
      "metadata": {
        "id": "mqyENaaOOKz1"
      },
      "outputs": [],
      "source": [
        "##importing libraries & import google sheets\n",
        "import pandas as pd\n",
        "import numpy as np\n",
        "\n",
        "from google.colab import auth\n",
        "auth.authenticate_user()\n",
        "\n",
        "import gspread\n",
        "from google.auth import default\n",
        "creds, _ = default()\n",
        "\n",
        "gc = gspread.authorize(creds)\n",
        "\n",
        "ws = gc.open('Stats').get_worksheet(1)\n",
        "df = pd.DataFrame(ws.get_all_records())"
      ]
    },
    {
      "cell_type": "code",
      "execution_count": 36,
      "metadata": {
        "id": "VL4HSdToOk3i",
        "colab": {
          "base_uri": "https://localhost:8080/"
        },
        "outputId": "16eb7deb-a589-4cdd-9ddd-9e37014c041d"
      },
      "outputs": [
        {
          "output_type": "stream",
          "name": "stderr",
          "text": [
            "/usr/local/lib/python3.7/dist-packages/ipykernel_launcher.py:2: SettingWithCopyWarning: \n",
            "A value is trying to be set on a copy of a slice from a DataFrame.\n",
            "Try using .loc[row_indexer,col_indexer] = value instead\n",
            "\n",
            "See the caveats in the documentation: https://pandas.pydata.org/pandas-docs/stable/user_guide/indexing.html#returning-a-view-versus-a-copy\n",
            "  \n"
          ]
        }
      ],
      "source": [
        "df1 = df[~df['Title'].str.contains('May 2021|February 2022|March 2022|April 2022')]\n",
        "df1['Title'] = df1['Title'].shift(1)"
      ]
    },
    {
      "cell_type": "code",
      "source": [
        "df2 = df1.reset_index(drop=True)\n",
        "df2 = df2.iloc[1:]\n",
        "df2= df2[~df2['Title'].str.contains('storyDetails')]"
      ],
      "metadata": {
        "id": "RyUgOk3Vxh-x"
      },
      "execution_count": 37,
      "outputs": []
    },
    {
      "cell_type": "code",
      "source": [
        "def clean(x):\n",
        "  df4 = x.str.split('([^\\W\\d])', expand=True)\n",
        "  df4 = df4.iloc[: , :-1]\n",
        "  df4.columns=[\"A\",\"B\"]\n",
        "  df4['B'] = df4['B'].str.replace(\"K\",\"1000\")\n",
        "  df4['A'] = df4['A'].astype('float64')\n",
        "  df4['B'] = df4['B'].astype('float64')\n",
        "  df4['C'] = df4['A']*df4['B']\n",
        "  return(df4['C'])"
      ],
      "metadata": {
        "id": "3VvTX6fCSoO1"
      },
      "execution_count": 38,
      "outputs": []
    },
    {
      "cell_type": "code",
      "source": [
        "df3 = df2\n",
        "views1 = clean(df2['Views'])\n",
        "df3[\"Views1\"] = views1\n",
        "df3['Views1'] = df3['Views1'].fillna(df3['Views'])\n",
        "\n",
        "reads1 = clean(df2['Reads'])\n",
        "df3[\"Reads1\"] = reads1\n",
        "df3['Reads1'] = df3['Reads1'].fillna(df3['Reads'])\n",
        "\n",
        "df3['Read Ratio']=df3['Read Ratio'].str.replace('\\%','')\n",
        "df3['Read Ratio'] = df3['Read Ratio'].astype('float64')\n",
        "df3['Read Ratio'] = df3['Read Ratio']/100"
      ],
      "metadata": {
        "id": "aCYwBJ0lUVrq",
        "colab": {
          "base_uri": "https://localhost:8080/"
        },
        "outputId": "eee797d7-e2e3-4af1-c09a-e1739e340abb"
      },
      "execution_count": 39,
      "outputs": [
        {
          "output_type": "stream",
          "name": "stderr",
          "text": [
            "/usr/local/lib/python3.7/dist-packages/ipykernel_launcher.py:10: FutureWarning: The default value of regex will change from True to False in a future version.\n",
            "  # Remove the CWD from sys.path while we load stuff.\n"
          ]
        }
      ]
    },
    {
      "cell_type": "code",
      "source": [
        "df4=df3\n",
        "df4['Views2']=df4['Reads1']/df4['Read Ratio']\n",
        "df4['Views2'] = df4['Views2'].round(0)\n",
        "df4['Fans'] = df4['Fans'].astype('float64')\n",
        "df_stat1 = df4[['Title','Views2','Reads1','Read Ratio','Fans']]"
      ],
      "metadata": {
        "id": "D77sP42Qbgpm"
      },
      "execution_count": 40,
      "outputs": []
    },
    {
      "cell_type": "code",
      "source": [
        "ws = gc.open('Stats').get_worksheet(0)\n",
        "df = pd.DataFrame(ws.get_all_records())"
      ],
      "metadata": {
        "id": "C_K7lKGgb2ti"
      },
      "execution_count": 42,
      "outputs": []
    },
    {
      "cell_type": "code",
      "source": [
        "df['Title'] = df['Title'].replace('', np.nan) \n",
        "df1 = df.dropna()\n",
        "df1 = df1[df1['Title'].str.len()<100]\n",
        "df1 = df1[~df1['Title'].str.contains('Published in|Get an email whenever Jason Huynh publishes.|You cannot subscribe to yourself')]\n",
        "#df1 = df1.reset_index(drop=True)\n",
        "df2 = df1\n",
        "df2 = df2[df2['Title'].str.len()>20]\n",
        "#df2 = df2.drop_duplicates()\n",
        "titles = df2.iloc[::2].reset_index(drop=True)"
      ],
      "metadata": {
        "id": "CJ50QJcIb5P8"
      },
      "execution_count": 43,
      "outputs": []
    },
    {
      "cell_type": "code",
      "source": [
        "df4 = df1[df1['Title'].str.len()<20]\n",
        "date = df4[::3].reset_index(drop=True)\n",
        "tag = df4[1::3].reset_index(drop=True)\n",
        "time = df4[2::3].reset_index(drop=True)"
      ],
      "metadata": {
        "id": "wvk1yEoEpHhv"
      },
      "execution_count": 44,
      "outputs": []
    },
    {
      "cell_type": "code",
      "source": [
        "df_stats2 = pd.concat([titles,date, tag, time],axis=1)\n",
        "df_stats2.columns = ['Title','Date', 'Tag', 'Time']\n",
        "df_stats2['Date'] = df_stats2['Date'].str.replace('\\·','')\n",
        "df_stats2['Time'] = df_stats2['Time'].str.replace('min read','')\n",
        "df_stats2['Time'] = df_stats2['Time'].astype(\"float64\")"
      ],
      "metadata": {
        "id": "qhpNKRr-tWI_",
        "colab": {
          "base_uri": "https://localhost:8080/"
        },
        "outputId": "3cf7e027-6ec6-4919-a134-1056b5946bbd"
      },
      "execution_count": 45,
      "outputs": [
        {
          "output_type": "stream",
          "name": "stderr",
          "text": [
            "/usr/local/lib/python3.7/dist-packages/ipykernel_launcher.py:3: FutureWarning: The default value of regex will change from True to False in a future version.\n",
            "  This is separate from the ipykernel package so we can avoid doing imports until\n"
          ]
        }
      ]
    },
    {
      "cell_type": "code",
      "source": [
        "df_final = df_stat1.merge(df_stats2,on=\"Title\")"
      ],
      "metadata": {
        "id": "WGxo1d-FwVha"
      },
      "execution_count": 47,
      "outputs": []
    }
  ],
  "metadata": {
    "colab": {
      "name": "Stats.ipynb",
      "provenance": [],
      "authorship_tag": "ABX9TyNsPxf0pDOWPOQBiZ9+6Pr8",
      "include_colab_link": true
    },
    "kernelspec": {
      "display_name": "Python 3",
      "name": "python3"
    },
    "language_info": {
      "name": "python"
    }
  },
  "nbformat": 4,
  "nbformat_minor": 0
}